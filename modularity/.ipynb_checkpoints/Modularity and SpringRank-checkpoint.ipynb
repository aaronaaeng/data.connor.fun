{
 "cells": [
  {
   "cell_type": "code",
   "execution_count": 116,
   "metadata": {},
   "outputs": [],
   "source": [
    "import matplotlib.pyplot as plt\n",
    "import networkx as nx\n",
    "import networkx as nx\n",
    "import numpy as np\n",
    "from collections import defaultdict"
   ]
  },
  {
   "cell_type": "code",
   "execution_count": 2,
   "metadata": {},
   "outputs": [],
   "source": [
    "def SpringRank(G):\n",
    "    G = np.array(G)\n",
    "    k_in = np.sum(G, 0)\n",
    "    k_out = np.sum(G, 1)\n",
    "    \n",
    "    K = np.diag(k_out + k_in)\n",
    "    A = K - (G + G.T)\n",
    "    B = k_out - k_in\n",
    "        \n",
    "    return np.transpose(np.linalg.lstsq(A, B, rcond=None)[0])"
   ]
  },
  {
   "cell_type": "code",
   "execution_count": 52,
   "metadata": {},
   "outputs": [],
   "source": [
    "def levenshtein_distance(str1, str2):\n",
    "    m = len(str1)\n",
    "    n = len(str2)\n",
    "    lensum = float(m + n)\n",
    "    d = []           \n",
    "    for i in range(m+1):\n",
    "        d.append([i])        \n",
    "    del d[0][0]    \n",
    "    for j in range(n+1):\n",
    "        d[0].append(j)       \n",
    "    for j in range(1,n+1):\n",
    "        for i in range(1,m+1):\n",
    "            if str1[i-1] == str2[j-1]:\n",
    "                d[i].insert(j,d[i-1][j-1])           \n",
    "            else:\n",
    "                minimum = min(d[i-1][j]+1, d[i][j-1]+1, d[i-1][j-1]+2)         \n",
    "                d[i].insert(j, minimum)\n",
    "    ldist = d[-1][-1]\n",
    "    ratio = (lensum - ldist)/lensum\n",
    "    return {'distance':ldist, 'ratio':ratio}"
   ]
  },
  {
   "cell_type": "code",
   "execution_count": 85,
   "metadata": {},
   "outputs": [],
   "source": [
    "def i_beats_j(r_i, r_j):\n",
    "    p_i = 1/(1+(np.power(10, (-(r_i-r_j)/400))))\n",
    "    return np.random.choice([1, 0], p=[p_i, 1-p_i])"
   ]
  },
  {
   "cell_type": "code",
   "execution_count": 111,
   "metadata": {},
   "outputs": [],
   "source": [
    "def gen_random_network(ranks, groups, min_degree, modularity=0):\n",
    "    groupings = defaultdict(list)\n",
    "    for i, g in enumerate(groups):\n",
    "        groupings[g].append(i)\n",
    "    \n",
    "    G = nx.MultiDiGraph()\n",
    "    for i in range(len(ranks)):\n",
    "        G.add_node(i, attr_dict={'rank':ranks[i], 'group':groups[i]})\n",
    "    \n",
    "    for i in range(len(ranks)):\n",
    "        r_i = ranks[i]\n",
    "        g_i = groups[i]\n",
    "        \n",
    "        own_other_group = [g_i, int(not g_i)]\n",
    "        p_same = ((modularity+1)/2)\n",
    "        selected_groups = np.random.choice(own_other_group, size=min_degree, p=[p_same, 1-p_same])\n",
    "        \n",
    "        \n",
    "        for g_j in selected_groups:\n",
    "            j = -1\n",
    "            while j == -1 or j == i:\n",
    "                j = np.random.choice(groupings[g_j])\n",
    "            \n",
    "            if i_beats_j(r_i, ranks[j]):\n",
    "                G.add_edge(i, j)\n",
    "            else:\n",
    "                G.add_edge(j, i)\n",
    "            \n",
    "    return G"
   ]
  },
  {
   "cell_type": "code",
   "execution_count": 112,
   "metadata": {},
   "outputs": [],
   "source": [
    "def gen_starting_parameters(mu, std, n):\n",
    "    ranks = np.random.normal(mu, std, size=n)    \n",
    "    ranks[::-1].sort()\n",
    "    groups = [i%2 for i in range(n)]\n",
    "    colors = ['blue' if g else 'red' for g in groups]\n",
    "    return ranks, groups, colors"
   ]
  },
  {
   "cell_type": "code",
   "execution_count": 121,
   "metadata": {},
   "outputs": [],
   "source": [
    "def evaluate_ranking(G, true_ranks, true_order):\n",
    "    A = nx.to_numpy_matrix(G)\n",
    "    spring_ranks = SpringRank(A)\n",
    "    spring_order = np.arange(len(spring_ranks))\n",
    "    spring_ranks, spring_order = zip(*sorted(zip(spring_ranks, spring_order), reverse=True))\n",
    "    \n",
    "    return levenshtein_distance(spring_order, true_order)"
   ]
  },
  {
   "cell_type": "code",
   "execution_count": 199,
   "metadata": {},
   "outputs": [],
   "source": [
    "def simulate_mod_and_acc(modularities, mu, std, num_nodes, num_trials=20):\n",
    "    accuracies = []\n",
    "    for mod in modularities:\n",
    "        accs = []\n",
    "        for _ in range(num_trials):\n",
    "            true_ranks, groups, colors = gen_starting_parameters(mu, std, num_nodes)\n",
    "            true_order = np.arange(len(true_ranks))\n",
    "            G = gen_random_network(true_ranks, groups, num_nodes*10, mod)\n",
    "            lev = evaluate_ranking(G, true_ranks, true_order)\n",
    "            \n",
    "            accs.append(lev['ratio'])\n",
    "        \n",
    "        accuracies.append(np.mean(accs))\n",
    "    \n",
    "    return accuracies"
   ]
  },
  {
   "cell_type": "code",
   "execution_count": null,
   "metadata": {},
   "outputs": [],
   "source": [
    "def main(step=.1):\n",
    "    step = .1\n",
    "    modularities = np.arange(-1, 1+step, step)\n",
    "    accuracies = simulate_mod_and_acc(modularities, 2400, 400, 30)\n",
    "    \n",
    "    fig, ax = plt.subplots(nrows=1, ncols=1, figsize=(8,6))\n",
    "    ax.grid(alpha=0.25)\n",
    "    ax.plot(modularities, accuracies)\n",
    "    ax.set_xlabel(\"Network Modularity\")\n",
    "    ax.set_ylabel(\"Ranking Accuracy\")\n",
    "    ax.set_title(\"The Effect of Modularity on SpringRank Accuracy\")"
   ]
  },
  {
   "cell_type": "code",
   "execution_count": 209,
   "metadata": {},
   "outputs": [
    {
     "data": {
      "text/plain": [
       "Text(0.5, 1.0, 'The Effect of Modularity on SpringRank Accuracy')"
      ]
     },
     "execution_count": 209,
     "metadata": {},
     "output_type": "execute_result"
    },
    {
     "data": {
      "image/png": "[encoded data removed]",
      "text/plain": [
       "<Figure size 576x432 with 1 Axes>"
      ]
     },
     "metadata": {
      "needs_background": "light"
     },
     "output_type": "display_data"
    }
   ],
   "source": [
    "fig, ax = plt.subplots(nrows=1, ncols=1, figsize=(8,6))\n",
    "ax.grid(alpha=0.25)\n",
    "ax.plot(modularities, accuracies)\n",
    "ax.set_xlabel(\"Network Modularity\")\n",
    "ax.set_ylabel(\"Ranking Accuracy\")\n",
    "ax.set_title(\"The Effect of Modularity on SpringRank Accuracy\")"
   ]
  },
  {
   "cell_type": "code",
   "execution_count": null,
   "metadata": {},
   "outputs": [],
   "source": []
  }
 ],
 "metadata": {
  "kernelspec": {
   "display_name": "Python 3",
   "language": "python",
   "name": "python3"
  },
  "language_info": {
   "codemirror_mode": {
    "name": "ipython",
    "version": 3
   },
   "file_extension": ".py",
   "mimetype": "text/x-python",
   "name": "python",
   "nbconvert_exporter": "python",
   "pygments_lexer": "ipython3",
   "version": "3.6.8"
  }
 },
 "nbformat": 4,
 "nbformat_minor": 2
}
