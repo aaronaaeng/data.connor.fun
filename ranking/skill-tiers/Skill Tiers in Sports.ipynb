{
 "cells": [
  {
   "cell_type": "code",
   "execution_count": 32,
   "metadata": {},
   "outputs": [],
   "source": [
    "import pandas as pd\n",
    "import numpy as np\n",
    "from collections import defaultdict\n",
    "import matplotlib.pyplot as plt"
   ]
  },
  {
   "cell_type": "code",
   "execution_count": 2,
   "metadata": {},
   "outputs": [],
   "source": [
    "dfNFL = pd.read_csv('data/nfl_elo.csv')"
   ]
  },
  {
   "cell_type": "code",
   "execution_count": 3,
   "metadata": {},
   "outputs": [
    {
     "data": {
      "text/html": [
       "<div>\n",
       "<style scoped>\n",
       "    .dataframe tbody tr th:only-of-type {\n",
       "        vertical-align: middle;\n",
       "    }\n",
       "\n",
       "    .dataframe tbody tr th {\n",
       "        vertical-align: top;\n",
       "    }\n",
       "\n",
       "    .dataframe thead th {\n",
       "        text-align: right;\n",
       "    }\n",
       "</style>\n",
       "<table border=\"1\" class=\"dataframe\">\n",
       "  <thead>\n",
       "    <tr style=\"text-align: right;\">\n",
       "      <th></th>\n",
       "      <th>date</th>\n",
       "      <th>season</th>\n",
       "      <th>neutral</th>\n",
       "      <th>playoff</th>\n",
       "      <th>team1</th>\n",
       "      <th>team2</th>\n",
       "      <th>elo1_pre</th>\n",
       "      <th>elo2_pre</th>\n",
       "      <th>elo_prob1</th>\n",
       "      <th>elo_prob2</th>\n",
       "      <th>elo1_post</th>\n",
       "      <th>elo2_post</th>\n",
       "      <th>score1</th>\n",
       "      <th>score2</th>\n",
       "    </tr>\n",
       "  </thead>\n",
       "  <tbody>\n",
       "    <tr>\n",
       "      <th>0</th>\n",
       "      <td>1920-09-26</td>\n",
       "      <td>1920</td>\n",
       "      <td>0</td>\n",
       "      <td>NaN</td>\n",
       "      <td>RII</td>\n",
       "      <td>STP</td>\n",
       "      <td>1503.947</td>\n",
       "      <td>1300.000</td>\n",
       "      <td>0.824651</td>\n",
       "      <td>0.175349</td>\n",
       "      <td>1516.108</td>\n",
       "      <td>1287.838</td>\n",
       "      <td>48</td>\n",
       "      <td>0</td>\n",
       "    </tr>\n",
       "    <tr>\n",
       "      <th>1</th>\n",
       "      <td>1920-10-03</td>\n",
       "      <td>1920</td>\n",
       "      <td>0</td>\n",
       "      <td>NaN</td>\n",
       "      <td>BFF</td>\n",
       "      <td>WBU</td>\n",
       "      <td>1478.004</td>\n",
       "      <td>1300.000</td>\n",
       "      <td>0.802000</td>\n",
       "      <td>0.198000</td>\n",
       "      <td>1489.757</td>\n",
       "      <td>1288.247</td>\n",
       "      <td>32</td>\n",
       "      <td>6</td>\n",
       "    </tr>\n",
       "    <tr>\n",
       "      <th>2</th>\n",
       "      <td>1920-10-03</td>\n",
       "      <td>1920</td>\n",
       "      <td>0</td>\n",
       "      <td>NaN</td>\n",
       "      <td>CBD</td>\n",
       "      <td>PTQ</td>\n",
       "      <td>1504.688</td>\n",
       "      <td>1300.000</td>\n",
       "      <td>0.825267</td>\n",
       "      <td>0.174733</td>\n",
       "      <td>1516.803</td>\n",
       "      <td>1287.885</td>\n",
       "      <td>48</td>\n",
       "      <td>0</td>\n",
       "    </tr>\n",
       "    <tr>\n",
       "      <th>3</th>\n",
       "      <td>1920-10-03</td>\n",
       "      <td>1920</td>\n",
       "      <td>0</td>\n",
       "      <td>NaN</td>\n",
       "      <td>CHI</td>\n",
       "      <td>MUT</td>\n",
       "      <td>1368.333</td>\n",
       "      <td>1300.000</td>\n",
       "      <td>0.682986</td>\n",
       "      <td>0.317014</td>\n",
       "      <td>1386.533</td>\n",
       "      <td>1281.800</td>\n",
       "      <td>20</td>\n",
       "      <td>0</td>\n",
       "    </tr>\n",
       "    <tr>\n",
       "      <th>4</th>\n",
       "      <td>1920-10-03</td>\n",
       "      <td>1920</td>\n",
       "      <td>0</td>\n",
       "      <td>NaN</td>\n",
       "      <td>RII</td>\n",
       "      <td>MUN</td>\n",
       "      <td>1516.108</td>\n",
       "      <td>1478.004</td>\n",
       "      <td>0.644171</td>\n",
       "      <td>0.355829</td>\n",
       "      <td>1542.135</td>\n",
       "      <td>1451.977</td>\n",
       "      <td>45</td>\n",
       "      <td>0</td>\n",
       "    </tr>\n",
       "  </tbody>\n",
       "</table>\n",
       "</div>"
      ],
      "text/plain": [
       "         date  season  neutral playoff team1 team2  elo1_pre  elo2_pre  \\\n",
       "0  1920-09-26    1920        0     NaN   RII   STP  1503.947  1300.000   \n",
       "1  1920-10-03    1920        0     NaN   BFF   WBU  1478.004  1300.000   \n",
       "2  1920-10-03    1920        0     NaN   CBD   PTQ  1504.688  1300.000   \n",
       "3  1920-10-03    1920        0     NaN   CHI   MUT  1368.333  1300.000   \n",
       "4  1920-10-03    1920        0     NaN   RII   MUN  1516.108  1478.004   \n",
       "\n",
       "   elo_prob1  elo_prob2  elo1_post  elo2_post  score1  score2  \n",
       "0   0.824651   0.175349   1516.108   1287.838      48       0  \n",
       "1   0.802000   0.198000   1489.757   1288.247      32       6  \n",
       "2   0.825267   0.174733   1516.803   1287.885      48       0  \n",
       "3   0.682986   0.317014   1386.533   1281.800      20       0  \n",
       "4   0.644171   0.355829   1542.135   1451.977      45       0  "
      ]
     },
     "execution_count": 3,
     "metadata": {},
     "output_type": "execute_result"
    }
   ],
   "source": [
    "dfNFL.head()"
   ]
  },
  {
   "cell_type": "code",
   "execution_count": 11,
   "metadata": {},
   "outputs": [],
   "source": [
    "def find_elo_victs(df, season):\n",
    "    elo = dict()\n",
    "    victories = defaultdict(lambda: defaultdict(int))\n",
    "    dfSeason = df.loc[df['season'] == season]\n",
    "    for _, row in dfSeason.iterrows():\n",
    "        elo[row['team1']] = row['elo1_post']\n",
    "        elo[row['team2']] = row['elo2_post']\n",
    "        if row['score1'] > row['score2']:\n",
    "            victories[row['team1']][row['team2']] += 1\n",
    "        else:\n",
    "            victories[row['team2']][row['team1']] += 1\n",
    "    return elo, victories"
   ]
  },
  {
   "cell_type": "code",
   "execution_count": 12,
   "metadata": {},
   "outputs": [],
   "source": [
    "elo, victories = find_elo_victs(dfNFL, 2018)"
   ]
  },
  {
   "cell_type": "code",
   "execution_count": 13,
   "metadata": {},
   "outputs": [
    {
     "name": "stdout",
     "output_type": "stream",
     "text": [
      "{'PHI': 1619.7703388785, 'ATL': 1527.97373691553, 'BAL': 1603.30887336888, 'BUF': 1420.13552226018, 'IND': 1589.1118479495099, 'CIN': 1390.3002727149499, 'CLE': 1431.32960206708, 'PIT': 1605.78982950909, 'NE': 1708.7847321643699, 'HOU': 1520.58279645841, 'MIA': 1370.2681428058802, 'TEN': 1525.8608052937, 'NYG': 1411.5883036424, 'JAX': 1430.3736091278, 'NO': 1663.90490475508, 'TB': 1414.6590028868802, 'MIN': 1555.1359313899302, 'SF': 1381.44773691811, 'LAC': 1626.1278770087197, 'KC': 1650.61614068496, 'CAR': 1526.5681586114401, 'DAL': 1567.4564081076098, 'ARI': 1323.11063335304, 'WSH': 1409.03268764508, 'DEN': 1421.2462918800197, 'SEA': 1595.6174728903602, 'GB': 1430.1970549029902, 'CHI': 1630.8468971726402, 'DET': 1483.27911390454, 'NYJ': 1324.94966353912, 'OAK': 1355.66092668292, 'LAR': 1644.52349932507}\n"
     ]
    }
   ],
   "source": [
    "print(elo)"
   ]
  },
  {
   "cell_type": "code",
   "execution_count": 43,
   "metadata": {},
   "outputs": [],
   "source": [
    "def find_diff_win_rates(elo, victories):\n",
    "    teams = list(elo.keys())\n",
    "    higher_wins = defaultdict(int)\n",
    "    higher_loses = defaultdict(int)\n",
    "    for t1 in teams:\n",
    "        for t2 in teams:\n",
    "            if t1 == t2:\n",
    "                continue\n",
    "            diff_unrounded = np.abs(elo[t1] - elo[t2])\n",
    "            diff = np.around(diff_unrounded/5, decimals=0)*5\n",
    "            if victories[t1][t2]:\n",
    "                w = t1\n",
    "                l = t2\n",
    "            else:\n",
    "                w = t2\n",
    "                l = t1\n",
    "            if elo[w] > elo[l]:\n",
    "                higher_wins[diff] += 1\n",
    "            else:\n",
    "                higher_loses[diff] += 1\n",
    "    \n",
    "    win_rates = {}\n",
    "    for diff in higher_wins.keys():\n",
    "        win_rates[diff] = higher_wins[diff]/(higher_wins[diff]+higher_loses[diff])\n",
    "    \n",
    "    return win_rates"
   ]
  },
  {
   "cell_type": "code",
   "execution_count": 44,
   "metadata": {},
   "outputs": [],
   "source": [
    "win_rates = find_diff_win_rates(elo, victories)"
   ]
  },
  {
   "cell_type": "code",
   "execution_count": 45,
   "metadata": {},
   "outputs": [
    {
     "data": {
      "image/png": "[encoded data removed]",
      "text/plain": [
       "<Figure size 432x288 with 1 Axes>"
      ]
     },
     "metadata": {
      "needs_background": "light"
     },
     "output_type": "display_data"
    }
   ],
   "source": [
    "lists = sorted(win_rates.items()) # sorted by key, return a list of tuples\n",
    "\n",
    "x, y = zip(*lists) # unpack a list of pairs into two tuples\n",
    "\n",
    "plt.plot(x, y)\n",
    "plt.show()"
   ]
  },
  {
   "cell_type": "code",
   "execution_count": 46,
   "metadata": {},
   "outputs": [
    {
     "name": "stdout",
     "output_type": "stream",
     "text": [
      "0.0 0.5555555555555556\n",
      "5.0 0.375\n",
      "10.0 0.5\n",
      "15.0 0.45\n",
      "20.0 0.6071428571428571\n",
      "25.0 0.4375\n",
      "30.0 0.6666666666666666\n",
      "35.0 0.7\n",
      "40.0 0.5\n",
      "45.0 0.5909090909090909\n",
      "50.0 0.55\n",
      "55.0 0.5\n",
      "60.0 0.7083333333333334\n",
      "65.0 0.5\n",
      "70.0 0.6111111111111112\n",
      "75.0 0.5909090909090909\n",
      "80.0 0.875\n",
      "85.0 0.6875\n",
      "90.0 0.7222222222222222\n",
      "95.0 0.3333333333333333\n",
      "100.0 0.65\n",
      "105.0 0.5\n",
      "110.0 0.6111111111111112\n",
      "115.0 0.875\n",
      "120.0 0.5833333333333334\n",
      "125.0 0.5625\n",
      "130.0 0.5\n",
      "135.0 0.6\n",
      "140.0 0.4\n",
      "145.0 0.5\n",
      "150.0 1.0\n",
      "155.0 0.7\n",
      "160.0 0.5625\n",
      "165.0 0.5833333333333334\n",
      "170.0 0.5833333333333334\n",
      "175.0 0.6\n",
      "180.0 0.7142857142857143\n",
      "185.0 0.5\n",
      "190.0 0.7857142857142857\n",
      "195.0 0.6111111111111112\n",
      "200.0 0.5\n",
      "205.0 0.5625\n",
      "210.0 0.7142857142857143\n",
      "215.0 0.6666666666666666\n",
      "220.0 0.6428571428571429\n",
      "225.0 0.5\n",
      "230.0 0.75\n",
      "235.0 0.65\n",
      "240.0 0.6\n",
      "245.0 0.6\n",
      "250.0 0.6666666666666666\n",
      "255.0 0.6666666666666666\n",
      "260.0 0.5\n",
      "265.0 0.5\n",
      "270.0 0.8333333333333334\n",
      "275.0 0.7\n",
      "280.0 0.5\n",
      "285.0 0.5\n",
      "290.0 0.8333333333333334\n",
      "295.0 0.5833333333333334\n",
      "300.0 0.5\n",
      "305.0 1.0\n",
      "310.0 0.75\n",
      "320.0 0.6666666666666666\n",
      "325.0 0.5\n",
      "330.0 1.0\n",
      "340.0 0.5\n",
      "355.0 0.5\n",
      "385.0 0.75\n"
     ]
    }
   ],
   "source": [
    "for k in sorted(win_rates.keys()):\n",
    "    print(k, win_rates[k])"
   ]
  },
  {
   "cell_type": "code",
   "execution_count": null,
   "metadata": {},
   "outputs": [],
   "source": []
  }
 ],
 "metadata": {
  "kernelspec": {
   "display_name": "Python 3",
   "language": "python",
   "name": "python3"
  },
  "language_info": {
   "codemirror_mode": {
    "name": "ipython",
    "version": 3
   },
   "file_extension": ".py",
   "mimetype": "text/x-python",
   "name": "python",
   "nbconvert_exporter": "python",
   "pygments_lexer": "ipython3",
   "version": "3.6.8"
  }
 },
 "nbformat": 4,
 "nbformat_minor": 2
}
