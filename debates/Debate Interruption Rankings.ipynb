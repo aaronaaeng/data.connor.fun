{
 "cells": [
  {
   "cell_type": "code",
   "execution_count": 1,
   "metadata": {},
   "outputs": [],
   "source": [
    "import numpy as np\n",
    "import networkx as nx\n",
    "import matplotlib.pyplot as plt"
   ]
  },
  {
   "cell_type": "code",
   "execution_count": 2,
   "metadata": {},
   "outputs": [],
   "source": [
    "name_lookup = {\n",
    "    'BEN': 'Bennet',\n",
    "    'BUT': 'Buttigieg',\n",
    "    'HAR': 'Harris',\n",
    "    'SAN': 'Sanders',\n",
    "    'GIL': 'Gillibrand',\n",
    "    'SWA': 'Swalwell',\n",
    "    'HIC': 'Hickenlooper',\n",
    "    'YAN': 'Yand',\n",
    "    'BID': 'Biden',\n",
    "    'WIL': 'Williamson'\n",
    "}"
   ]
  },
  {
   "cell_type": "code",
   "execution_count": 3,
   "metadata": {},
   "outputs": [],
   "source": [
    "def spring_rank(G):\n",
    "    G = np.array(G)\n",
    "    k_in = np.sum(G, 0)\n",
    "    k_out = np.sum(G, 1)\n",
    "    \n",
    "    K = np.diag(k_out + k_in)\n",
    "    A = K - (G + G.T)\n",
    "    B = k_out - k_in\n",
    "        \n",
    "    return np.transpose(np.linalg.lstsq(A, B, rcond=None)[0])"
   ]
  },
  {
   "cell_type": "code",
   "execution_count": 16,
   "metadata": {},
   "outputs": [],
   "source": [
    "def read_int_list(file_path):\n",
    "    return nx.read_edgelist(file_path, create_using=nx.DiGraph)"
   ]
  },
  {
   "cell_type": "code",
   "execution_count": 23,
   "metadata": {},
   "outputs": [],
   "source": [
    "def is_higher(l, e1, e2):\n",
    "    for e in l:\n",
    "        if e == e1:\n",
    "            return True\n",
    "        elif e == e2:\n",
    "            return False\n",
    "\n",
    "def plot_vertical(G, names, ranks):\n",
    "    pos = {n: (0,r) for n, r in zip(names, ranks)}\n",
    "    correct_edges = []\n",
    "    incorrect_edges = []\n",
    "\n",
    "    for e in G.edges():\n",
    "        if is_higher(names, e[0], e[1]):\n",
    "            correct_edges.append(e)\n",
    "        else:\n",
    "            incorrect_edges.append(e)\n",
    "            \n",
    "    plt.figure(3,figsize=(12,12)) \n",
    "    nx.draw_networkx_nodes(G, pos, node_size=50, node_color='black')\n",
    "    nx.draw_networkx_edges(G, pos, correct_edges, arrowsize=0.000001, edge_color='#6AB6E2', alpha=.03, connectionstyle='arc3,rad=-0.3')\n",
    "    nx.draw_networkx_edges(G, pos, incorrect_edges, arrowsize=0.000001, edge_color='#F63646', alpha=.03, connectionstyle='arc3,rad=-0.3')\n",
    "    plt.show()"
   ]
  },
  {
   "cell_type": "code",
   "execution_count": 24,
   "metadata": {},
   "outputs": [],
   "source": [
    "def main():\n",
    "    G = read_int_list('data/dem-6-27-ints.txt')\n",
    "    names = list(G.nodes())\n",
    "    A = nx.to_numpy_matrix(G, order=names)\n",
    "    ranks = spring_rank(A)\n",
    "    ranks, names = zip(*sorted(zip(ranks, names), reverse=True))\n",
    "    plot_vertical(G, names, ranks)"
   ]
  },
  {
   "cell_type": "code",
   "execution_count": 25,
   "metadata": {},
   "outputs": [
    {
     "name": "stderr",
     "output_type": "stream",
     "text": [
      "/home/eitri/.local/lib/python3.6/site-packages/networkx/drawing/nx_pylab.py:579: MatplotlibDeprecationWarning: \n",
      "The iterable function was deprecated in Matplotlib 3.1 and will be removed in 3.3. Use np.iterable instead.\n",
      "  if not cb.iterable(width):\n",
      "/home/eitri/.local/lib/python3.6/site-packages/networkx/drawing/nx_pylab.py:676: MatplotlibDeprecationWarning: \n",
      "The iterable function was deprecated in Matplotlib 3.1 and will be removed in 3.3. Use np.iterable instead.\n",
      "  if cb.iterable(node_size):  # many node sizes\n"
     ]
    },
    {
     "data": {
      "image/png": "[encoded data removed]",
      "text/plain": [
       "<Figure size 864x864 with 1 Axes>"
      ]
     },
     "metadata": {},
     "output_type": "display_data"
    }
   ],
   "source": [
    "main()"
   ]
  },
  {
   "cell_type": "code",
   "execution_count": null,
   "metadata": {},
   "outputs": [],
   "source": []
  }
 ],
 "metadata": {
  "kernelspec": {
   "display_name": "Python 3",
   "language": "python",
   "name": "python3"
  },
  "language_info": {
   "codemirror_mode": {
    "name": "ipython",
    "version": 3
   },
   "file_extension": ".py",
   "mimetype": "text/x-python",
   "name": "python",
   "nbconvert_exporter": "python",
   "pygments_lexer": "ipython3",
   "version": "3.6.8"
  }
 },
 "nbformat": 4,
 "nbformat_minor": 2
}
